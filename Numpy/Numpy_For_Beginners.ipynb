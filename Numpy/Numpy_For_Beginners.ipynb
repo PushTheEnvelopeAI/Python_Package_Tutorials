{
 "cells": [
  {
   "cell_type": "code",
   "execution_count": 123,
   "id": "81fff67a",
   "metadata": {},
   "outputs": [
    {
     "name": "stdout",
     "output_type": "stream",
     "text": [
      "1.19.2\n"
     ]
    }
   ],
   "source": [
    "import numpy as np\n",
    "\n",
    "# print out version number to ensure proper installation\n",
    "print(np.__version__)"
   ]
  },
  {
   "cell_type": "code",
   "execution_count": 20,
   "id": "be46e6b1",
   "metadata": {},
   "outputs": [
    {
     "name": "stdout",
     "output_type": "stream",
     "text": [
      "[1 2 3 4 5 6] \n",
      "\n",
      "[1 2 3 4 5 6] \n",
      "\n",
      "[[1 2 3]\n",
      " [4 5 6]] \n",
      "\n"
     ]
    }
   ],
   "source": [
    "# Create python list\n",
    "x = [1,2,3,4,5,6]\n",
    "\n",
    "# Convert list variable to numpy array\n",
    "x = np.array(x)\n",
    "print(x, '\\n')\n",
    "\n",
    "# Observe same behavior when feeding entire list into numpy array\n",
    "y = np.array([1,2,3,4,5,6])\n",
    "print(y, '\\n')\n",
    "\n",
    "# Create two dimensional array\n",
    "z = np.array([(1,2,3), (4,5,6)])\n",
    "print(z, '\\n')"
   ]
  },
  {
   "cell_type": "code",
   "execution_count": 62,
   "id": "d5e6a468",
   "metadata": {},
   "outputs": [
    {
     "name": "stdout",
     "output_type": "stream",
     "text": [
      "(2, 3) \n",
      "\n",
      "int32 \n",
      "\n"
     ]
    }
   ],
   "source": [
    "# print the shape (dimension sizes) of the numpy array\n",
    "print(z.shape, '\\n')\n",
    "\n",
    "# print the type of variables stored within the numpy array\n",
    "print(z.dtype, '\\n')"
   ]
  },
  {
   "cell_type": "code",
   "execution_count": 61,
   "id": "8ef865b0",
   "metadata": {},
   "outputs": [
    {
     "name": "stdout",
     "output_type": "stream",
     "text": [
      "[[1 2]\n",
      " [3 4]\n",
      " [5 6]] \n",
      "\n",
      "[[1 3 5]\n",
      " [2 4 6]] \n",
      "\n",
      "[[1]\n",
      " [2]\n",
      " [3]\n",
      " [4]\n",
      " [5]\n",
      " [6]] \n",
      "\n"
     ]
    }
   ],
   "source": [
    "# Resize the numpy array to be two dimensional\n",
    "x_reshape = x.reshape(3,2)\n",
    "print(x_reshape, '\\n')\n",
    "\n",
    "# Swap numpy array rows and columns\n",
    "x_T = x_reshape.T\n",
    "print(x_T, '\\n')\n",
    "\n",
    "# Reshape with -1 to allow dimension to automatically fit to data size\n",
    "x_reshape2 = x.reshape(-1,1)\n",
    "print(x_reshape2, '\\n')"
   ]
  },
  {
   "cell_type": "code",
   "execution_count": 63,
   "id": "ee698dbb",
   "metadata": {},
   "outputs": [
    {
     "name": "stdout",
     "output_type": "stream",
     "text": [
      "[[0. 0. 0.]\n",
      " [0. 0. 0.]] \n",
      "\n",
      "[[1. 1. 1.]\n",
      " [1. 1. 1.]] \n",
      "\n",
      "[[5. 5. 5.]\n",
      " [5. 5. 5.]] \n",
      "\n"
     ]
    }
   ],
   "source": [
    "# Initialize numpy array of shape 2,3 with zeros\n",
    "zeros = np.zeros((2,3))\n",
    "print(zeros, '\\n')\n",
    "\n",
    "# Initialize numpy array of same shape as zeros array with ones\n",
    "ones = np.ones(zeros.shape)\n",
    "print(ones, '\\n')\n",
    "\n",
    "# Initialize numpy array of same shape as zeros array with fives\n",
    "fives = np.ones(zeros.shape)*5\n",
    "print(fives, '\\n')"
   ]
  },
  {
   "cell_type": "code",
   "execution_count": 66,
   "id": "a5f14f69",
   "metadata": {},
   "outputs": [
    {
     "name": "stdout",
     "output_type": "stream",
     "text": [
      "[[1 1 1]\n",
      " [1 1 1]] \n",
      "\n",
      "[[5 5 5]\n",
      " [5 5 5]] \n",
      "\n",
      "[[5 5 5]\n",
      " [5 5 5]] \n",
      "\n",
      "[[1. 1. 1.]\n",
      " [1. 1. 1.]] \n",
      "\n"
     ]
    }
   ],
   "source": [
    "# Initialize array with zeros as type integer\n",
    "ones = np.ones(zeros.shape, dtype=np.int32)\n",
    "print(ones, '\\n')\n",
    "\n",
    "# Convert fives array to dtype integer by recasting to numpy array\n",
    "dtype1 = np.array(fives, dtype=np.int32)\n",
    "print(dtype1, '\\n')\n",
    "\n",
    "# Convert fives array to dtype integer by assigning dtype\n",
    "dtype2 = fives.astype(np.int32)\n",
    "print(dtype2, '\\n')\n",
    "\n",
    "# Convert fives array to dtype float by assigning dtype\n",
    "dtype3 = ones.astype(np.float64)\n",
    "print(dtype3, '\\n')"
   ]
  },
  {
   "cell_type": "code",
   "execution_count": 69,
   "id": "2e2fd5a0",
   "metadata": {},
   "outputs": [
    {
     "name": "stdout",
     "output_type": "stream",
     "text": [
      "[[0.56415364 0.66253138 0.89325524]\n",
      " [0.21691071 0.82079071 0.24878636]] \n",
      "\n",
      "[[208 205 206]\n",
      " [ 61  73 151]] \n",
      "\n",
      "[ 0.   0.1  0.2  0.3  0.4  0.5  0.6  0.7  0.8  0.9  1.   1.1  1.2  1.3\n",
      "  1.4  1.5  1.6  1.7  1.8  1.9  2.   2.1  2.2  2.3  2.4  2.5  2.6  2.7\n",
      "  2.8  2.9  3.   3.1  3.2  3.3  3.4  3.5  3.6  3.7  3.8  3.9  4.   4.1\n",
      "  4.2  4.3  4.4  4.5  4.6  4.7  4.8  4.9  5.   5.1  5.2  5.3  5.4  5.5\n",
      "  5.6  5.7  5.8  5.9  6.   6.1  6.2  6.3  6.4  6.5  6.6  6.7  6.8  6.9\n",
      "  7.   7.1  7.2  7.3  7.4  7.5  7.6  7.7  7.8  7.9  8.   8.1  8.2  8.3\n",
      "  8.4  8.5  8.6  8.7  8.8  8.9  9.   9.1  9.2  9.3  9.4  9.5  9.6  9.7\n",
      "  9.8  9.9 10. ] \n",
      "\n"
     ]
    }
   ],
   "source": [
    "# Initialize array with random values from 0 to 1\n",
    "random = np.random.random(ones.shape)\n",
    "print(random, '\\n')\n",
    "\n",
    "# Initialize array with random integers from 0 to 255\n",
    "randint = np.random.randint(0,255,ones.shape)\n",
    "print(randint, '\\n')\n",
    "\n",
    "# Initialize array with values from 0 to 10 evenly spaced to total 101 values\n",
    "linspace = np.linspace(0,10,101)\n",
    "print(linspace, '\\n')"
   ]
  },
  {
   "cell_type": "code",
   "execution_count": 76,
   "id": "09beb87a",
   "metadata": {},
   "outputs": [
    {
     "name": "stdout",
     "output_type": "stream",
     "text": [
      "[6 6 6 6 6] \n",
      "\n",
      "[-4 -2  0  2  4] \n",
      "\n",
      "[5 8 9 8 5] \n",
      "\n",
      "[0.2 0.5 1.  2.  5. ] \n",
      "\n",
      "[ 1 16 27 16  5] \n",
      "\n",
      "35 \n",
      "\n",
      "[ 5 10 15 20 25] \n",
      "\n"
     ]
    }
   ],
   "source": [
    "# Define two arrays with random values \n",
    "a = np.array([1,2,3,4,5])\n",
    "b = np.array([5,4,3,2,1])\n",
    "\n",
    "# Perform math operations on entire arrays to store results as a new array\n",
    "c = a+b\n",
    "d = a-b\n",
    "e = a*b\n",
    "f = a/b\n",
    "g = a**b\n",
    "h = a @ b # Dot product of two arrays. Alternate: a.dot(b)\n",
    "i = a*5\n",
    "\n",
    "# Print math outputs \n",
    "print(c, '\\n')\n",
    "print(d, '\\n')\n",
    "print(e, '\\n')\n",
    "print(f, '\\n')\n",
    "print(g, '\\n')\n",
    "print(h, '\\n')\n",
    "print(i, '\\n')"
   ]
  },
  {
   "cell_type": "code",
   "execution_count": 83,
   "id": "d30ae68a",
   "metadata": {},
   "outputs": [
    {
     "name": "stdout",
     "output_type": "stream",
     "text": [
      "[1 2 5 6 7] \n",
      "\n",
      "[-0.84147098  0.90929743  0.95892427 -0.2794155  -0.6569866 ] \n",
      "\n",
      "[ 0.54030231 -0.41614684  0.28366219  0.96017029  0.75390225] \n",
      "\n",
      "[3.67879441e-01 7.38905610e+00 6.73794700e-03 4.03428793e+02\n",
      " 9.11881966e-04] \n",
      "\n",
      "[1.         1.41421356 2.23606798 2.44948974 2.64575131] \n",
      "\n"
     ]
    }
   ],
   "source": [
    "# Define array of random values\n",
    "a = np.array([-1,2,-5,6,-7])\n",
    "\n",
    "# Use numpy built in math functions on arrays to return new array of values\n",
    "b = np.abs(a)\n",
    "c = np.sin(a)\n",
    "d = np.cos(a)\n",
    "e = np.exp(a)\n",
    "f = np.sqrt(b)\n",
    "\n",
    "# Print math outputs\n",
    "print(b, '\\n')\n",
    "print(c, '\\n')\n",
    "print(d, '\\n')\n",
    "print(e, '\\n')\n",
    "print(f, '\\n')"
   ]
  },
  {
   "cell_type": "code",
   "execution_count": 124,
   "id": "39369652",
   "metadata": {},
   "outputs": [
    {
     "name": "stdout",
     "output_type": "stream",
     "text": [
      "-7 \n",
      "\n",
      "6 \n",
      "\n",
      "-1.0 \n",
      "\n",
      "4.69041575982343 \n",
      "\n",
      "-5 \n",
      "\n",
      "[-1  1 -4  2 -5] \n",
      "\n"
     ]
    }
   ],
   "source": [
    "# Define array of random values\n",
    "a = np.array([-1,2,-5,6,-7])\n",
    "\n",
    "# Use built in numpy math summary functions or arrays\n",
    "print(a.min(), '\\n')\n",
    "print(a.max(), '\\n')\n",
    "print(a.mean(), '\\n')\n",
    "print(a.std(), '\\n')\n",
    "print(a.sum(), '\\n')\n",
    "print(a.cumsum(), '\\n')"
   ]
  },
  {
   "cell_type": "code",
   "execution_count": 85,
   "id": "79a3f5ad",
   "metadata": {},
   "outputs": [
    {
     "name": "stdout",
     "output_type": "stream",
     "text": [
      "[[1 2 3 4]\n",
      " [4 2 5 7]\n",
      " [3 5 7 2]] \n",
      "\n",
      "[ 8  9 15 13] \n",
      "\n",
      "[10 18 17] \n",
      "\n"
     ]
    }
   ],
   "source": [
    "# Define multi-dimensional array of random values \n",
    "a = np.array([(1,2,3,4), (4,2,5,7), (3,5,7,2)])\n",
    "\n",
    "# Print original array\n",
    "print(a, '\\n')\n",
    "\n",
    "# Print sum of dim=0 (columns)\n",
    "print(a.sum(axis=0), '\\n')\n",
    "\n",
    "# Print sum of dim=1 (rows)\n",
    "print(a.sum(axis=1), '\\n')"
   ]
  },
  {
   "cell_type": "code",
   "execution_count": 126,
   "id": "01fc7f3e",
   "metadata": {},
   "outputs": [
    {
     "name": "stdout",
     "output_type": "stream",
     "text": [
      "[[1 2 3 4]\n",
      " [4 2 5 7]\n",
      " [3 5 7 2]] \n",
      "\n",
      "[1 2 3 4] \n",
      "\n",
      "[3 5 7 2] \n",
      "\n",
      "[1 4 3] \n",
      "\n",
      "[3 4 4 5 7 3 5 7] \n",
      "\n",
      "(array([0, 0, 1, 1, 1, 2, 2, 2], dtype=int64), array([2, 3, 0, 2, 3, 0, 1, 2], dtype=int64))\n"
     ]
    }
   ],
   "source": [
    "# Define multi-dimensional array of random values \n",
    "a = np.array([(1,2,3,4), (4,2,5,7), (3,5,7,2)])\n",
    "\n",
    "# Print array at different indices \n",
    "print(a, '\\n')\n",
    "print(a[0], '\\n')\n",
    "print(a[-1], '\\n')\n",
    "\n",
    "# Use comma to reference multiple dimensions\n",
    "print(a[:,0], '\\n')\n",
    "\n",
    "# Use condition to filter array where condition is true \n",
    "print(a[a>2], '\\n')\n",
    "\n",
    "# Use where to return indices where condition is true in array\n",
    "print(np.where(a>2))"
   ]
  },
  {
   "cell_type": "code",
   "execution_count": 129,
   "id": "93840b75",
   "metadata": {},
   "outputs": [
    {
     "name": "stdout",
     "output_type": "stream",
     "text": [
      "[[0.70007263 0.7775183  0.42565316 0.25693048]\n",
      " [0.70274932 0.72035078 0.41881751 0.11116223]\n",
      " [0.27645505 0.71903009 0.41254158 0.57002923]] \n",
      "\n",
      "[[0.70007263 0.75       0.42565316 0.25693048]\n",
      " [0.70274932 0.72035078 0.41881751 0.25      ]\n",
      " [0.27645505 0.71903009 0.41254158 0.57002923]]\n"
     ]
    }
   ],
   "source": [
    "# Define multi-dimensional array of random values\n",
    "random = np.random.random((3,4))\n",
    "print(random, '\\n')\n",
    "\n",
    "# Use clip to bound data or lower and upper values \n",
    "random = random.clip(.25,.75)\n",
    "print(random)"
   ]
  },
  {
   "cell_type": "code",
   "execution_count": 131,
   "id": "a2d58558",
   "metadata": {},
   "outputs": [
    {
     "name": "stdout",
     "output_type": "stream",
     "text": [
      "[[ 1.  2. nan  4.]\n",
      " [ 4.  2.  5. nan]\n",
      " [ 3. inf  7.  2.]] \n",
      "\n",
      "[[ 1.  2.  0.  4.]\n",
      " [ 4.  2.  5.  0.]\n",
      " [ 3. 10.  7.  2.]] \n",
      "\n"
     ]
    }
   ],
   "source": [
    "# Define array of random values with Not a Number (nan) and Infinite (inf) values\n",
    "a = np.array([(1,2,np.nan,4), (4,2,5,np.nan), (3,np.inf,7,2)])\n",
    "print(a, '\\n')\n",
    "\n",
    "# Convert nan values and infinite values to predefined values\n",
    "b = np.nan_to_num(a, 0, posinf=10, neginf=-10)\n",
    "print(b, '\\n')"
   ]
  }
 ],
 "metadata": {
  "kernelspec": {
   "display_name": "Python 3 (ipykernel)",
   "language": "python",
   "name": "python3"
  },
  "language_info": {
   "codemirror_mode": {
    "name": "ipython",
    "version": 3
   },
   "file_extension": ".py",
   "mimetype": "text/x-python",
   "name": "python",
   "nbconvert_exporter": "python",
   "pygments_lexer": "ipython3",
   "version": "3.9.12"
  }
 },
 "nbformat": 4,
 "nbformat_minor": 5
}
