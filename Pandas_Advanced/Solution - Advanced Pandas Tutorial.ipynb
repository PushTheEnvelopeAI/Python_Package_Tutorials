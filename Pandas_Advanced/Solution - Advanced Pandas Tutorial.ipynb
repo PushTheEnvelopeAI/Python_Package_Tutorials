{
 "cells": [
  {
   "cell_type": "markdown",
   "id": "5ed5b8a1-7c7d-46c3-96cb-c9b463184cb2",
   "metadata": {
    "tags": []
   },
   "source": [
    "# 0. Reading Dataset"
   ]
  },
  {
   "cell_type": "code",
   "execution_count": 1,
   "id": "4775d7c4-b548-4433-8c64-af4d59cc47e1",
   "metadata": {},
   "outputs": [
    {
     "name": "stdout",
     "output_type": "stream",
     "text": [
      "[*********************100%***********************]  1 of 1 completed\n",
      "[*********************100%***********************]  1 of 1 completed\n",
      "{'AAPL': 'Tech', 'MMM': 'Industrials'}\n"
     ]
    },
    {
     "data": {
      "text/html": [
       "<div>\n",
       "<style scoped>\n",
       "    .dataframe tbody tr th:only-of-type {\n",
       "        vertical-align: middle;\n",
       "    }\n",
       "\n",
       "    .dataframe tbody tr th {\n",
       "        vertical-align: top;\n",
       "    }\n",
       "\n",
       "    .dataframe thead th {\n",
       "        text-align: right;\n",
       "    }\n",
       "</style>\n",
       "<table border=\"1\" class=\"dataframe\">\n",
       "  <thead>\n",
       "    <tr style=\"text-align: right;\">\n",
       "      <th></th>\n",
       "      <th>Date</th>\n",
       "      <th>Ticker</th>\n",
       "      <th>Open</th>\n",
       "      <th>High</th>\n",
       "      <th>Low</th>\n",
       "      <th>Close</th>\n",
       "      <th>Adj Close</th>\n",
       "      <th>Volume</th>\n",
       "    </tr>\n",
       "  </thead>\n",
       "  <tbody>\n",
       "    <tr>\n",
       "      <th>0</th>\n",
       "      <td>1980-12-12</td>\n",
       "      <td>AAPL</td>\n",
       "      <td>0.128348</td>\n",
       "      <td>0.128906</td>\n",
       "      <td>0.128348</td>\n",
       "      <td>0.128348</td>\n",
       "      <td>0.100039</td>\n",
       "      <td>469033600</td>\n",
       "    </tr>\n",
       "    <tr>\n",
       "      <th>1</th>\n",
       "      <td>1980-12-15</td>\n",
       "      <td>AAPL</td>\n",
       "      <td>0.122210</td>\n",
       "      <td>0.122210</td>\n",
       "      <td>0.121652</td>\n",
       "      <td>0.121652</td>\n",
       "      <td>0.094820</td>\n",
       "      <td>175884800</td>\n",
       "    </tr>\n",
       "    <tr>\n",
       "      <th>2</th>\n",
       "      <td>1980-12-16</td>\n",
       "      <td>AAPL</td>\n",
       "      <td>0.113281</td>\n",
       "      <td>0.113281</td>\n",
       "      <td>0.112723</td>\n",
       "      <td>0.112723</td>\n",
       "      <td>0.087861</td>\n",
       "      <td>105728000</td>\n",
       "    </tr>\n",
       "    <tr>\n",
       "      <th>3</th>\n",
       "      <td>1980-12-17</td>\n",
       "      <td>AAPL</td>\n",
       "      <td>0.115513</td>\n",
       "      <td>0.116071</td>\n",
       "      <td>0.115513</td>\n",
       "      <td>0.115513</td>\n",
       "      <td>0.090035</td>\n",
       "      <td>86441600</td>\n",
       "    </tr>\n",
       "    <tr>\n",
       "      <th>4</th>\n",
       "      <td>1980-12-18</td>\n",
       "      <td>AAPL</td>\n",
       "      <td>0.118862</td>\n",
       "      <td>0.119420</td>\n",
       "      <td>0.118862</td>\n",
       "      <td>0.118862</td>\n",
       "      <td>0.092646</td>\n",
       "      <td>73449600</td>\n",
       "    </tr>\n",
       "    <tr>\n",
       "      <th>...</th>\n",
       "      <td>...</td>\n",
       "      <td>...</td>\n",
       "      <td>...</td>\n",
       "      <td>...</td>\n",
       "      <td>...</td>\n",
       "      <td>...</td>\n",
       "      <td>...</td>\n",
       "      <td>...</td>\n",
       "    </tr>\n",
       "    <tr>\n",
       "      <th>25780</th>\n",
       "      <td>2022-08-22</td>\n",
       "      <td>MMM</td>\n",
       "      <td>143.279999</td>\n",
       "      <td>143.679993</td>\n",
       "      <td>141.029999</td>\n",
       "      <td>141.589996</td>\n",
       "      <td>141.589996</td>\n",
       "      <td>10183400</td>\n",
       "    </tr>\n",
       "    <tr>\n",
       "      <th>25781</th>\n",
       "      <td>2022-08-23</td>\n",
       "      <td>MMM</td>\n",
       "      <td>141.000000</td>\n",
       "      <td>142.419998</td>\n",
       "      <td>140.710007</td>\n",
       "      <td>141.750000</td>\n",
       "      <td>141.750000</td>\n",
       "      <td>15358400</td>\n",
       "    </tr>\n",
       "    <tr>\n",
       "      <th>25782</th>\n",
       "      <td>2022-08-24</td>\n",
       "      <td>MMM</td>\n",
       "      <td>140.910004</td>\n",
       "      <td>141.589996</td>\n",
       "      <td>139.710007</td>\n",
       "      <td>141.039993</td>\n",
       "      <td>141.039993</td>\n",
       "      <td>15430500</td>\n",
       "    </tr>\n",
       "    <tr>\n",
       "      <th>25783</th>\n",
       "      <td>2022-08-25</td>\n",
       "      <td>MMM</td>\n",
       "      <td>141.070007</td>\n",
       "      <td>143.270004</td>\n",
       "      <td>140.639999</td>\n",
       "      <td>142.759995</td>\n",
       "      <td>142.759995</td>\n",
       "      <td>47355600</td>\n",
       "    </tr>\n",
       "    <tr>\n",
       "      <th>25784</th>\n",
       "      <td>2022-08-26</td>\n",
       "      <td>MMM</td>\n",
       "      <td>143.639999</td>\n",
       "      <td>144.009995</td>\n",
       "      <td>128.679993</td>\n",
       "      <td>129.139999</td>\n",
       "      <td>129.139999</td>\n",
       "      <td>38375300</td>\n",
       "    </tr>\n",
       "  </tbody>\n",
       "</table>\n",
       "<p>25785 rows × 8 columns</p>\n",
       "</div>"
      ],
      "text/plain": [
       "             Date Ticker        Open        High         Low       Close  \\\n",
       "0      1980-12-12   AAPL    0.128348    0.128906    0.128348    0.128348   \n",
       "1      1980-12-15   AAPL    0.122210    0.122210    0.121652    0.121652   \n",
       "2      1980-12-16   AAPL    0.113281    0.113281    0.112723    0.112723   \n",
       "3      1980-12-17   AAPL    0.115513    0.116071    0.115513    0.115513   \n",
       "4      1980-12-18   AAPL    0.118862    0.119420    0.118862    0.118862   \n",
       "...           ...    ...         ...         ...         ...         ...   \n",
       "25780  2022-08-22    MMM  143.279999  143.679993  141.029999  141.589996   \n",
       "25781  2022-08-23    MMM  141.000000  142.419998  140.710007  141.750000   \n",
       "25782  2022-08-24    MMM  140.910004  141.589996  139.710007  141.039993   \n",
       "25783  2022-08-25    MMM  141.070007  143.270004  140.639999  142.759995   \n",
       "25784  2022-08-26    MMM  143.639999  144.009995  128.679993  129.139999   \n",
       "\n",
       "        Adj Close     Volume  \n",
       "0        0.100039  469033600  \n",
       "1        0.094820  175884800  \n",
       "2        0.087861  105728000  \n",
       "3        0.090035   86441600  \n",
       "4        0.092646   73449600  \n",
       "...           ...        ...  \n",
       "25780  141.589996   10183400  \n",
       "25781  141.750000   15358400  \n",
       "25782  141.039993   15430500  \n",
       "25783  142.759995   47355600  \n",
       "25784  129.139999   38375300  \n",
       "\n",
       "[25785 rows x 8 columns]"
      ]
     },
     "metadata": {},
     "output_type": "display_data"
    }
   ],
   "source": [
    "import yfinance as yf\n",
    "import pandas as pd\n",
    "from datetime import datetime\n",
    "\n",
    "tickers = ['AAPL', 'MMM']\n",
    "sectors = ['Tech', 'Industrials']\n",
    "sectors = dict(zip(tickers, sectors))\n",
    "\n",
    "stocks = pd.DataFrame()\n",
    "\n",
    "for ticker in tickers:\n",
    "    data = yf.download(tickers=[ticker])\n",
    "    data['Ticker'] = ticker\n",
    "    data = data.reset_index(drop=False)\n",
    "    data['Date'] = data['Date'].astype('str')\n",
    "    data = data[['Date', 'Ticker', 'Open', 'High', 'Low', 'Close', 'Adj Close', 'Volume']]\n",
    "    stocks = pd.concat([stocks, data]).reset_index(drop=True)\n",
    "    \n",
    "print(sectors)\n",
    "display(stocks)"
   ]
  },
  {
   "cell_type": "markdown",
   "id": "58a0078b-6846-4c01-91f7-a81c9efe2bd5",
   "metadata": {
    "tags": []
   },
   "source": [
    "# 1. Reading Dates"
   ]
  },
  {
   "cell_type": "markdown",
   "id": "62188fd1-6c67-4f29-94ed-c98a736f20ad",
   "metadata": {
    "tags": []
   },
   "source": [
    "### Original"
   ]
  },
  {
   "cell_type": "code",
   "execution_count": 2,
   "id": "a90756fb-00db-4332-bedd-b4ddd10ca7d0",
   "metadata": {},
   "outputs": [
    {
     "name": "stdout",
     "output_type": "stream",
     "text": [
      "213 ms ± 979 µs per loop (mean ± std. dev. of 3 runs, 100 loops each)\n"
     ]
    }
   ],
   "source": [
    "%%timeit -r 3 -n 100\n",
    "\n",
    "dates = []\n",
    "\n",
    "for date in stocks['Date']:\n",
    "    dt = datetime.strptime(date, '%Y-%M-%d')\n",
    "    dates.append(dt)\n",
    "    \n",
    "stocks['New_Date'] = dates"
   ]
  },
  {
   "cell_type": "markdown",
   "id": "ee526722-96fa-4999-897a-34d0e810239a",
   "metadata": {},
   "source": [
    "### Optimized"
   ]
  },
  {
   "cell_type": "code",
   "execution_count": 2,
   "id": "4ad3d024-7d99-4f66-ba8f-e70b48ddc2fc",
   "metadata": {},
   "outputs": [
    {
     "name": "stdout",
     "output_type": "stream",
     "text": [
      "10.1 ms ± 214 µs per loop (mean ± std. dev. of 3 runs, 100 loops each)\n"
     ]
    }
   ],
   "source": [
    "%%timeit -r 3 -n 100\n",
    "\n",
    "stocks['New_Date'] = pd.to_datetime(stocks['Date'])"
   ]
  },
  {
   "cell_type": "markdown",
   "id": "f8528cda-a399-4dec-b86c-ff92aad65ac8",
   "metadata": {
    "tags": []
   },
   "source": [
    "# 2. Indexing"
   ]
  },
  {
   "cell_type": "markdown",
   "id": "05f7c478-550e-4460-983e-fdd7973bc548",
   "metadata": {
    "tags": []
   },
   "source": [
    "### Original"
   ]
  },
  {
   "cell_type": "code",
   "execution_count": 4,
   "id": "7204aa0f-985d-44a9-8f53-f6c0048244fa",
   "metadata": {},
   "outputs": [
    {
     "name": "stdout",
     "output_type": "stream",
     "text": [
      "258 ms ± 1.9 ms per loop (mean ± std. dev. of 3 runs, 100 loops each)\n"
     ]
    }
   ],
   "source": [
    "%%timeit -r 3 -n 100\n",
    "\n",
    "closes = []\n",
    "\n",
    "for x in range(len(stocks)):\n",
    "    if stocks['New_Date'][x].year == 2022:\n",
    "        closes.append(stocks['Close'][x])"
   ]
  },
  {
   "cell_type": "markdown",
   "id": "73be75f6-0f75-42d0-be8c-02e883e0b62b",
   "metadata": {},
   "source": [
    "### Optimized"
   ]
  },
  {
   "cell_type": "code",
   "execution_count": 3,
   "id": "75c7dd3b-2966-49af-a366-ac15023141e9",
   "metadata": {},
   "outputs": [
    {
     "name": "stdout",
     "output_type": "stream",
     "text": [
      "1.52 ms ± 189 µs per loop (mean ± std. dev. of 3 runs, 100 loops each)\n"
     ]
    }
   ],
   "source": [
    "%%timeit -r 3 -n 100\n",
    "\n",
    "closes = stocks[stocks['New_Date'].dt.year == 2022]['Close']"
   ]
  },
  {
   "cell_type": "code",
   "execution_count": 4,
   "id": "a230d750-0ae8-4329-8697-d81e80669eca",
   "metadata": {},
   "outputs": [
    {
     "name": "stdout",
     "output_type": "stream",
     "text": [
      "1.34 ms ± 86.3 µs per loop (mean ± std. dev. of 3 runs, 100 loops each)\n"
     ]
    }
   ],
   "source": [
    "%%timeit -r 3 -n 100\n",
    "\n",
    "closes = stocks.loc[stocks['New_Date'].dt.year == 2022, 'Close']"
   ]
  },
  {
   "cell_type": "markdown",
   "id": "c85e083d-027b-4e24-9100-45cd64ec3538",
   "metadata": {
    "tags": []
   },
   "source": [
    "# 3. Reassigning at Index"
   ]
  },
  {
   "cell_type": "markdown",
   "id": "6cb29444-d127-465b-a10a-e3cb5e33da3f",
   "metadata": {},
   "source": [
    "### Original"
   ]
  },
  {
   "cell_type": "code",
   "execution_count": 5,
   "id": "22357995-04f5-4834-82a3-af42f217aac6",
   "metadata": {},
   "outputs": [
    {
     "name": "stdout",
     "output_type": "stream",
     "text": [
      "259 ms ± 2.22 ms per loop (mean ± std. dev. of 3 runs, 100 loops each)\n"
     ]
    }
   ],
   "source": [
    "%%timeit -r 3 -n 100\n",
    "\n",
    "years = []\n",
    "\n",
    "for x in range(len(stocks)):\n",
    "    if stocks['New_Date'][x].year == 2022:\n",
    "        years.append('This Year')\n",
    "    else:\n",
    "        years.append('Not This Year')\n",
    "        \n",
    "stocks['Year'] = years"
   ]
  },
  {
   "cell_type": "markdown",
   "id": "15fec7e7-08ed-4a63-bd96-bfacb13b4bd0",
   "metadata": {},
   "source": [
    "### Optimized"
   ]
  },
  {
   "cell_type": "code",
   "execution_count": 5,
   "id": "8cc90ec7-bd85-42d6-9320-df8ab05c79ba",
   "metadata": {},
   "outputs": [
    {
     "name": "stdout",
     "output_type": "stream",
     "text": [
      "1.77 ms ± 324 µs per loop (mean ± std. dev. of 3 runs, 100 loops each)\n"
     ]
    }
   ],
   "source": [
    "%%timeit -r 3 -n 100\n",
    "\n",
    "stocks['Year'] = 'Not This Year'\n",
    "stocks.loc[stocks['New_Date'].dt.year == 2022, 'Year'] = 'This Year'"
   ]
  },
  {
   "cell_type": "markdown",
   "id": "8d850841-67a2-4fcf-8939-6d8aa82ff3ed",
   "metadata": {
    "tags": []
   },
   "source": [
    "# 4. Mapping Dictionaries"
   ]
  },
  {
   "cell_type": "markdown",
   "id": "56e087e3-500d-4600-a19d-f6a0915e432e",
   "metadata": {},
   "source": [
    "### Original"
   ]
  },
  {
   "cell_type": "code",
   "execution_count": 6,
   "id": "7f759aa2-ed72-4b25-8b85-2979b44ac95c",
   "metadata": {},
   "outputs": [
    {
     "name": "stdout",
     "output_type": "stream",
     "text": [
      "112 ms ± 497 µs per loop (mean ± std. dev. of 3 runs, 100 loops each)\n"
     ]
    }
   ],
   "source": [
    "%%timeit -r 3 -n 100\n",
    "\n",
    "sector = []\n",
    "\n",
    "for x in range(len(stocks)):\n",
    "    sector.append(sectors[stocks['Ticker'][x]])\n",
    "        \n",
    "stocks['Sector'] = sector"
   ]
  },
  {
   "cell_type": "markdown",
   "id": "db804cdf-a402-46dc-9657-460a148da805",
   "metadata": {},
   "source": [
    "### Optimized"
   ]
  },
  {
   "cell_type": "code",
   "execution_count": 6,
   "id": "f4fb9e80-7a08-44f3-b198-ca32d6b03859",
   "metadata": {},
   "outputs": [
    {
     "name": "stdout",
     "output_type": "stream",
     "text": [
      "1.53 ms ± 206 µs per loop (mean ± std. dev. of 3 runs, 100 loops each)\n"
     ]
    }
   ],
   "source": [
    "%%timeit -r 3 -n 100\n",
    "\n",
    "stocks['Sector'] = stocks['Ticker'].map(sectors)"
   ]
  },
  {
   "cell_type": "markdown",
   "id": "2eac8a17-4629-473b-990e-468488bca190",
   "metadata": {
    "tags": []
   },
   "source": [
    "# 5. Applying Functions"
   ]
  },
  {
   "cell_type": "markdown",
   "id": "ca5964e7-eace-4ef3-9232-bd8e0f6df92b",
   "metadata": {},
   "source": [
    "### Original"
   ]
  },
  {
   "cell_type": "code",
   "execution_count": 7,
   "id": "61b2b5e5-d90e-4db4-970e-6b67e67a5fcd",
   "metadata": {},
   "outputs": [
    {
     "name": "stdout",
     "output_type": "stream",
     "text": [
      "344 ms ± 3.12 ms per loop (mean ± std. dev. of 3 runs, 100 loops each)\n"
     ]
    }
   ],
   "source": [
    "%%timeit -r 3 -n 100\n",
    "\n",
    "p_changes = []\n",
    "\n",
    "for x in range(len(stocks)):\n",
    "    change = (stocks['Close'][x] - stocks['Open'][x]) / (stocks['Open'][x] + 1e-5)\n",
    "    p_changes.append(change)\n",
    "        \n",
    "stocks['%Change'] = p_changes"
   ]
  },
  {
   "cell_type": "markdown",
   "id": "8736538a-29a4-47c8-b6a6-3c333a13cb0f",
   "metadata": {},
   "source": [
    "### Optimized"
   ]
  },
  {
   "cell_type": "code",
   "execution_count": 8,
   "id": "d742e8b0-f9dc-41ac-8bcd-a4d8d8db839a",
   "metadata": {},
   "outputs": [
    {
     "name": "stdout",
     "output_type": "stream",
     "text": [
      "218 ms ± 3.73 ms per loop (mean ± std. dev. of 3 runs, 100 loops each)\n"
     ]
    }
   ],
   "source": [
    "%%timeit -r 3 -n 100\n",
    "\n",
    "stocks['%Change'] = stocks[['Open', 'Close']].apply(lambda x: (x[1] -x[0]) / (x[0] + 1e-5), axis=1)"
   ]
  },
  {
   "cell_type": "code",
   "execution_count": 7,
   "id": "a37da67e-432e-4cea-8f8b-afdcb2f8c6b7",
   "metadata": {},
   "outputs": [
    {
     "name": "stdout",
     "output_type": "stream",
     "text": [
      "223 ms ± 7.89 ms per loop (mean ± std. dev. of 3 runs, 100 loops each)\n"
     ]
    }
   ],
   "source": [
    "%%timeit -r 3 -n 100\n",
    "\n",
    "def percent_change(x):\n",
    "    return (x[1] -x[0]) / (x[0] + 1e-5)\n",
    "\n",
    "stocks['%Change'] = stocks[['Open', 'Close']].apply(percent_change, axis = 1)"
   ]
  },
  {
   "cell_type": "code",
   "execution_count": 9,
   "id": "534164ea-ab40-4e24-abfb-86142d505a88",
   "metadata": {},
   "outputs": [
    {
     "name": "stdout",
     "output_type": "stream",
     "text": [
      "491 µs ± 115 µs per loop (mean ± std. dev. of 3 runs, 100 loops each)\n"
     ]
    }
   ],
   "source": [
    "%%timeit -r 3 -n 100\n",
    "\n",
    "stocks['%Change'] = (stocks['Close'] - stocks['Open']) / (stocks['Open'] + 1e-5)"
   ]
  },
  {
   "cell_type": "markdown",
   "id": "808a6131-d1f5-45e4-9c8f-7d0af205cead",
   "metadata": {
    "tags": []
   },
   "source": [
    "# 6. Binning"
   ]
  },
  {
   "cell_type": "markdown",
   "id": "c090bd78-3d7d-45cd-bd70-ad9cb205f73c",
   "metadata": {},
   "source": [
    "### Original"
   ]
  },
  {
   "cell_type": "code",
   "execution_count": 8,
   "id": "7a7160c6-bba3-4a29-b673-59c4e947b58c",
   "metadata": {},
   "outputs": [
    {
     "name": "stdout",
     "output_type": "stream",
     "text": [
      "297 ms ± 891 µs per loop (mean ± std. dev. of 3 runs, 100 loops each)\n"
     ]
    }
   ],
   "source": [
    "%%timeit -r 3 -n 100\n",
    "\n",
    "bins = []\n",
    "\n",
    "for x in range(len(stocks)):\n",
    "    if stocks['%Change'][x] < -2:\n",
    "        bins.append('down alot')\n",
    "    elif stocks['%Change'][x] < 0:\n",
    "        bins.append('down')\n",
    "    elif stocks['%Change'][x] < 2:\n",
    "        bins.append('up')\n",
    "    else:\n",
    "        bins.append('up alot')\n",
    "    \n",
    "stocks['Bins'] = bins"
   ]
  },
  {
   "cell_type": "markdown",
   "id": "ae10c72d-bf65-4da6-bcba-691da4ebc2f6",
   "metadata": {},
   "source": [
    "### Optimized"
   ]
  },
  {
   "cell_type": "code",
   "execution_count": 10,
   "id": "e64e6af7-0c1c-4d40-b678-4ece0286eb8b",
   "metadata": {},
   "outputs": [
    {
     "name": "stdout",
     "output_type": "stream",
     "text": [
      "1.26 ms ± 216 µs per loop (mean ± std. dev. of 3 runs, 100 loops each)\n"
     ]
    }
   ],
   "source": [
    "%%timeit -r 3 -n 100\n",
    "\n",
    "stocks['Bins'] = pd.cut(stocks['%Change'], [-1000000, -2, 0, 2, 1000000], \n",
    "                        labels=['down alot', 'down', 'up', 'up alot'])"
   ]
  }
 ],
 "metadata": {
  "kernelspec": {
   "display_name": "Python 3 (ipykernel)",
   "language": "python",
   "name": "python3"
  },
  "language_info": {
   "codemirror_mode": {
    "name": "ipython",
    "version": 3
   },
   "file_extension": ".py",
   "mimetype": "text/x-python",
   "name": "python",
   "nbconvert_exporter": "python",
   "pygments_lexer": "ipython3",
   "version": "3.9.12"
  }
 },
 "nbformat": 4,
 "nbformat_minor": 5
}
